{
 "cells": [
  {
   "cell_type": "code",
   "execution_count": 1,
   "metadata": {},
   "outputs": [],
   "source": [
    "import pandas as pd\n",
    "import numpy as np\n",
    "from scipy.ndimage import convolve1d\n",
    "from torch.utils import data\n",
    "import os"
   ]
  },
  {
   "cell_type": "code",
   "execution_count": 2,
   "metadata": {},
   "outputs": [],
   "source": [
    "# utils.py: Define some utility functions (not the focus of this course).\n",
    "import os\n",
    "import shutil\n",
    "import torch\n",
    "import numpy as np\n",
    "from scipy.ndimage import gaussian_filter1d\n",
    "from scipy.signal.windows import triang\n",
    "import matplotlib.pyplot as plt\n",
    "from sklearn.model_selection import train_test_split\n",
    "\n",
    "def get_lds_kernel_window(kernel, ks, sigma):\n",
    "    assert kernel in ['gaussian', 'triang', 'laplace']\n",
    "    half_ks = (ks - 1) // 2\n",
    "    if kernel == 'gaussian':\n",
    "        base_kernel = [0.] * half_ks + [1.] + [0.] * half_ks\n",
    "        kernel_window = gaussian_filter1d(base_kernel, sigma=sigma) / max(gaussian_filter1d(base_kernel, sigma=sigma))\n",
    "    elif kernel == 'triang':\n",
    "        kernel_window = triang(ks)\n",
    "    else:\n",
    "        laplace = lambda x: np.exp(-abs(x) / sigma) / (2. * sigma)\n",
    "        kernel_window = list(map(laplace, np.arange(-half_ks, half_ks + 1))) / max(map(laplace, np.arange(-half_ks, half_ks + 1)))\n",
    "\n",
    "    return kernel_window\n"
   ]
  },
  {
   "cell_type": "code",
   "execution_count": 3,
   "metadata": {},
   "outputs": [],
   "source": [
    "class DNA_loader(data.Dataset):\n",
    "    def __init__(self, labels,dna, split='train', reweight='none',\n",
    "                 lds=False, lds_kernel='gaussian', lds_ks=5, lds_sigma=2):\n",
    "        self.split = split\n",
    "        self.labels= labels\n",
    "        \n",
    "        self.dna = self.seq2onehot(dna)\n",
    "        \n",
    "        self.weights = self.weights = self._prepare_weights(reweight=reweight, lds=lds, lds_kernel=lds_kernel, lds_ks=lds_ks, lds_sigma=lds_sigma)\n",
    "        # # 对weights进行标准化\n",
    "        # if self.weights is not None:\n",
    "        #     self.weights = (self.weights - np.mean(self.weights)) / np.std(self.weights)\n",
    "    def __len__(self):\n",
    "        return self.labels.shape[0]\n",
    "    \n",
    "\n",
    "\n",
    "    def __getitem__(self, index):\n",
    "        index = index % self.labels.shape[0]\n",
    "        feature = np.transpose(self.dna[index], (2, 0, 1))\n",
    "        label = self.labels[index]\n",
    "        weight = np.asarray([self.weights[index]]).astype('float32') if self.weights is not None else np.asarray([np.float32(1.)])\n",
    "        return feature, weight, label\n",
    "    \n",
    "\n",
    "    \n",
    "    def seq2onehot(self,seq):     #convert the cRBS sequences to one-hot encoding\n",
    "        module = np.array([[[1,0,0,0]],\n",
    "                           [[0,1,0,0]],\n",
    "                           [[0,0,1,0]],\n",
    "                           [[0,0,0,1]]])\n",
    "        i = 0\n",
    "        cRBS_onehot = []\n",
    "        for i in seq:\n",
    "            tmp = []\n",
    "            for item in i:\n",
    "                if item == 't' or item == 'T':\n",
    "                    tmp.append(module[0])\n",
    "                elif item == 'c' or item == 'C':\n",
    "                    tmp.append(module[1])\n",
    "                elif item == 'g' or item == 'G':\n",
    "                    tmp.append(module[2])\n",
    "                elif item == 'a' or item == 'A':\n",
    "                    tmp.append(module[3])\n",
    "                else:\n",
    "                    tmp.append([[0,0,0,0]])\n",
    "            cRBS_onehot.append(tmp)\n",
    "        cRBS_onehot=np.array(cRBS_onehot).astype('float32')\n",
    "        return cRBS_onehot\n",
    "\n",
    "    def _prepare_weights(self, reweight, max_target=101, lds=False, lds_kernel='gaussian', lds_ks=5, lds_sigma=2):\n",
    "        assert reweight in {'none', 'inverse', 'sqrt_inv'}\n",
    "        assert reweight != 'none' if lds else True, \\\n",
    "            \"Set reweight to \\'sqrt_inv\\' (default) or \\'inverse\\' when using LDS\"\n",
    "\n",
    "        value_dict = {x: 0 for x in range(max_target)}\n",
    "        labels = self.labels.tolist()\n",
    "        # mbr   \n",
    "        for label in labels:\n",
    "            value_dict[min(max_target - 1, int(label))] += 1\n",
    "        if reweight == 'sqrt_inv':\n",
    "            value_dict = {k: np.sqrt(v) for k, v in value_dict.items()}\n",
    "        elif reweight == 'inverse':\n",
    "            value_dict = {k: np.clip(v, 5, 1000) for k, v in value_dict.items()}  # clip weights for inverse re-weight\n",
    "        num_per_label = [value_dict[min(max_target - 1, int(label))] for label in labels]\n",
    "        if not len(num_per_label) or reweight == 'none':\n",
    "            return None\n",
    "        print(f\"Using re-weighting: [{reweight.upper()}]\")\n",
    "        if lds:\n",
    "            lds_kernel_window = get_lds_kernel_window(lds_kernel, lds_ks, lds_sigma)\n",
    "            print(f'Using LDS: [{lds_kernel.upper()}] ({lds_ks}/{lds_sigma})')\n",
    "            smoothed_value = convolve1d(\n",
    "                np.asarray([v for _, v in value_dict.items()]), weights=lds_kernel_window, mode='constant')\n",
    "            num_per_label = [smoothed_value[min(max_target - 1, int(label))] for label in labels]\n",
    "\n",
    "        weights = [np.float32(1 / x) for x in num_per_label]\n",
    "        scaling = len(weights) / np.sum(weights)\n",
    "        weights = [scaling * x for x in weights]\n",
    "        return weights"
   ]
  },
  {
   "cell_type": "code",
   "execution_count": 4,
   "metadata": {},
   "outputs": [],
   "source": [
    "x_train=pd.read_excel('data/promoter_w_20799.xlsx',header=None).to_numpy().reshape(-1)\n",
    "y_train=pd.read_excel('data/mapped_labels.xlsx',header=None).to_numpy().reshape(-1)"
   ]
  },
  {
   "cell_type": "code",
   "execution_count": 5,
   "metadata": {},
   "outputs": [
    {
     "name": "stdout",
     "output_type": "stream",
     "text": [
      "Using re-weighting: [INVERSE]\n",
      "Using LDS: [GAUSSIAN] (20/10)\n",
      "Using re-weighting: [INVERSE]\n",
      "Using LDS: [GAUSSIAN] (5/2)\n",
      "Using re-weighting: [INVERSE]\n",
      "Using LDS: [GAUSSIAN] (5/2)\n"
     ]
    }
   ],
   "source": [
    "train_data, temp_data, train_labels, temp_labels = train_test_split(x_train, y_train, test_size=0.2, random_state=42)\n",
    "val_data, test_data, val_labels, test_labels = train_test_split(temp_data, temp_labels, test_size=0.5, random_state=42)\n",
    "\n",
    "train_dataset = DNA_loader(labels=train_labels, dna=train_data,split='train',\n",
    "                        reweight='inverse', lds=True, lds_kernel='gaussian', lds_ks=20, lds_sigma=10)\n",
    "val_dataset = DNA_loader(labels=val_labels, dna=val_data,split='train',\n",
    "                        reweight='inverse', lds=True, lds_kernel='gaussian', lds_ks=5, lds_sigma=2)\n",
    "test_dataset = DNA_loader(labels=test_labels, dna=test_data,split='train',\n",
    "                        reweight='inverse', lds=True, lds_kernel='gaussian', lds_ks=5, lds_sigma=2)\n"
   ]
  },
  {
   "cell_type": "code",
   "execution_count": 6,
   "metadata": {},
   "outputs": [
    {
     "data": {
      "image/png": "[encoded data removed]",
      "text/plain": [
       "<Figure size 640x480 with 1 Axes>"
      ]
     },
     "metadata": {},
     "output_type": "display_data"
    }
   ],
   "source": [
    "# 设计一个函数，提取train_dataset中的权重\n",
    "def get_weight(train_dataset):\n",
    "    weight=[]\n",
    "    for i in range(len(train_dataset)):\n",
    "        weight.append(train_dataset[i][1][0])\n",
    "    return weight\n",
    "weights = get_weight(test_dataset)\n",
    "# 提取train_datasetd的labels,定义为get_labels函数\n",
    "def get_labels(train_dataset):\n",
    "    labels=[]\n",
    "    for i in range(len(train_dataset)):\n",
    "        labels.append(train_dataset[i][2])\n",
    "    return labels\n",
    "labels = get_labels(test_dataset)\n",
    "# 读取features from train_dataset\n",
    "def get_features(train_dataset):\n",
    "    features=[]\n",
    "    for i in range(len(train_dataset)):\n",
    "        features.append(train_dataset[i][0])\n",
    "    features=np.array(features)\n",
    "    return features\n",
    "# 将labels和weights合并在一起绘制其中的关系图\n",
    "import matplotlib.pyplot as plt\n",
    "plt.scatter(labels,weights)\n",
    "plt.show()\n",
    "\n",
    "# # 可视化weights的分布\n",
    "# import matplotlib.pyplot as plt\n",
    "# plt.hist(weights, bins=100)\n",
    "# plt.show()\n"
   ]
  },
  {
   "cell_type": "code",
   "execution_count": 7,
   "metadata": {},
   "outputs": [
    {
     "data": {
      "image/png": "[encoded data removed]",
      "text/plain": [
       "<Figure size 640x480 with 1 Axes>"
      ]
     },
     "metadata": {},
     "output_type": "display_data"
    },
    {
     "data": {
      "image/png": "[encoded data removed]",
      "text/plain": [
       "<Figure size 640x480 with 2 Axes>"
      ]
     },
     "metadata": {},
     "output_type": "display_data"
    }
   ],
   "source": [
    "# labes的分布图\n",
    "import matplotlib.pyplot as plt\n",
    "plt.hist(labels, bins=100)\n",
    "plt.show()\n",
    "# 将上面的scatter图和hist图合并在一起，用不同的颜色标注\n",
    "import matplotlib.pyplot as plt\n",
    "fig, ax1 = plt.subplots()\n",
    "ax1.hist(labels, bins=100)\n",
    "ax2 = ax1.twinx()\n",
    "ax2.scatter(labels,weights,color='red',s=5)\n",
    "plt.show()\n"
   ]
  }
 ],
 "metadata": {
  "kernelspec": {
   "display_name": "EDA",
   "language": "python",
   "name": "python3"
  },
  "language_info": {
   "codemirror_mode": {
    "name": "ipython",
    "version": 3
   },
   "file_extension": ".py",
   "mimetype": "text/x-python",
   "name": "python",
   "nbconvert_exporter": "python",
   "pygments_lexer": "ipython3",
   "version": "3.8.16"
  }
 },
 "nbformat": 4,
 "nbformat_minor": 2
}
